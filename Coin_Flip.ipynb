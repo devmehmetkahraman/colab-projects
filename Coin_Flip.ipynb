{
  "nbformat": 4,
  "nbformat_minor": 0,
  "metadata": {
    "colab": {
      "provenance": [],
      "authorship_tag": "ABX9TyPH4GfD4u6b/UQufKP2z4Jm",
      "include_colab_link": true
    },
    "kernelspec": {
      "name": "python3",
      "display_name": "Python 3"
    },
    "language_info": {
      "name": "python"
    }
  },
  "cells": [
    {
      "cell_type": "markdown",
      "metadata": {
        "id": "view-in-github",
        "colab_type": "text"
      },
      "source": [
        "<a href=\"https://colab.research.google.com/github/devmehmetkahraman/colab-projects/blob/main/Coin_Flip.ipynb\" target=\"_parent\"><img src=\"https://colab.research.google.com/assets/colab-badge.svg\" alt=\"Open In Colab\"/></a>"
      ]
    },
    {
      "cell_type": "code",
      "execution_count": null,
      "metadata": {
        "id": "9CNztENW7pWB"
      },
      "outputs": [],
      "source": [
        "import random\n",
        "import matplotlib.pyplot as plt\n",
        "\n",
        "# Madeni parayı 1000 kez atma işlemi\n",
        "def madeni_para_atis():\n",
        "    atislar = []\n",
        "    for _ in range(1000):\n",
        "        sonuc = random.choice(['Yazı', 'Tura'])\n",
        "        atislar.append(sonuc)\n",
        "    return atislar\n",
        "\n",
        "# Yazı ve Tura sayılarını hesapla\n",
        "def hesapla_yazi_tura(atislar):\n",
        "    yazilar = atislar.count('Yazı')\n",
        "    turalar = atislar.count('Tura')\n",
        "    return yazilar, turalar\n",
        "\n",
        "# Histogram oluştur\n",
        "def histogram_olustur(atislar):\n",
        "    plt.hist(atislar, bins=['Yazı', 'Tura'], align='left', alpha=0.5)\n",
        "    plt.xlabel('Sonuç')\n",
        "    plt.ylabel('Atış Sayısı')\n",
        "    plt.title('Madeni Para Atışı Sonuçları')\n",
        "    plt.show()\n",
        "\n",
        "# Ana işlem\n",
        "if __name__ == \"__main__\":\n",
        "    atislar = madeni_para_atis()\n",
        "    yazilar, turalar = hesapla_yazi_tura(atislar)\n",
        "\n",
        "    print(\"Toplam Yazı Sayısı:\", yazilar)\n",
        "    print(\"Toplam Tura Sayısı:\", turalar)\n",
        "    print(\"Yazı Yüzdesi:\", (yazilar / 1000) * 100, \"%\")\n",
        "    print(\"Tura Yüzdesi:\", (turalar / 1000) * 100, \"%\")\n",
        "\n",
        "    histogram_olustur(atislar)"
      ]
    },
    {
      "cell_type": "markdown",
      "source": [
        "2nd version:"
      ],
      "metadata": {
        "id": "EpJgdVlN0t-q"
      }
    },
    {
      "cell_type": "code",
      "source": [
        " import random\n",
        "\n",
        "# Madeni parayı n kez atıp ve kaç yazı geldiğini hesaplayalım.\n",
        "def madeni_para_deneyi(n):\n",
        "    yazilar = 0\n",
        "    for _ in range(n):\n",
        "        sonuc = random.choice(['Yazı', 'Tura'])\n",
        "        if sonuc == 'Yazı':\n",
        "            yazilar += 1\n",
        "    return yazilar\n",
        "\n",
        "# Deneyi 1000 kez tekrarlayıp ve her seferinde kaç yazı geldiğini kaydedelim.\n",
        "def deneyi_tekrarla():\n",
        "    deney_sonuclari = []\n",
        "    for _ in range(1000):\n",
        "        yazilar = madeni_para_deneyi(1000)\n",
        "        deney_sonuclari.append(yazilar)\n",
        "    return deney_sonuclari\n",
        "\n",
        "# Ana işlem\n",
        "if __name__ == \"__main__\":\n",
        "    deney_sonuclari = deneyi_tekrarla()\n",
        "\n",
        "    # İlk 10 deneme sonucunu yazdıralım.\n",
        "    for i in range(10):\n",
        "        print(f\"Deneme {i+1}: {deney_sonuclari[i]} yazı geldi.\")\n",
        "\n",
        "    # Deney sonuçlarının istatistiksel analizini yapalım.\n",
        "    ortalama = sum(deney_sonuclari) / len(deney_sonuclari)\n",
        "    print(f\"Ortalama Yazı Sayısı: {ortalama}\")"
      ],
      "metadata": {
        "id": "RcpUauuLY-36"
      },
      "execution_count": null,
      "outputs": []
    },
    {
      "cell_type": "markdown",
      "source": [
        "And here is the other version:"
      ],
      "metadata": {
        "id": "3tD6D4Hz2J4E"
      }
    },
    {
      "cell_type": "code",
      "source": [
        "import random\n",
        "import matplotlib.pyplot as plt\n",
        "\n",
        "# Madeni parayı 1000 kez atma işlemi\n",
        "def madeni_para_atis():\n",
        "    atislar = []\n",
        "    for _ in range(1000):\n",
        "        sonuc = random.choice(['Yazı', 'Tura'])\n",
        "        atislar.append(sonuc)\n",
        "    return atislar\n",
        "\n",
        "# Yazı ve tura sayılarını hesaplama\n",
        "def hesapla_yazi_tura(atislar):\n",
        "    yazilar = atislar.count('Yazı')\n",
        "    turalar = atislar.count('Tura')\n",
        "    return yazilar, turalar\n",
        "\n",
        "# Histogram oluşturma\n",
        "def histogram_olustur(atislar):\n",
        "    plt.hist(atislar, bins=['Yazı', 'Tura'], align='left', alpha=0.5)\n",
        "    plt.xlabel('Sonuç')\n",
        "    plt.ylabel('Atış Sayısı')\n",
        "    plt.title('Madeni Para Atışı Sonuçları')\n",
        "    plt.show()\n",
        "\n",
        "# Ana işlem\n",
        "if __name__ == \"__main__\":\n",
        "    atislar = madeni_para_atis()\n",
        "    yazilar, turalar = hesapla_yazi_tura(atislar)\n",
        "\n",
        "    print(\"Toplam Yazı Sayısı:\", yazilar)\n",
        "    print(\"Toplam Tura Sayısı:\", turalar)\n",
        "    print(\"Yazı Yüzdesi:\", (yazilar / 1000) * 100, \"%\")\n",
        "    print(\"Tura Yüzdesi:\", (turalar / 1000) * 100, \"%\")\n",
        "\n",
        "    histogram_olustur(atislar)"
      ],
      "metadata": {
        "id": "3BqoCn912D6E"
      },
      "execution_count": null,
      "outputs": []
    }
  ]
}