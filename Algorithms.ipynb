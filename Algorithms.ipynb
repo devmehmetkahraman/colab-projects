{
  "nbformat": 4,
  "nbformat_minor": 0,
  "metadata": {
    "colab": {
      "provenance": [],
      "authorship_tag": "ABX9TyPl2qiojgwoTalORERSQ37u",
      "include_colab_link": true
    },
    "kernelspec": {
      "name": "python3",
      "display_name": "Python 3"
    },
    "language_info": {
      "name": "python"
    }
  },
  "cells": [
    {
      "cell_type": "markdown",
      "metadata": {
        "id": "view-in-github",
        "colab_type": "text"
      },
      "source": [
        "<a href=\"https://colab.research.google.com/github/devmehmetkahraman/colab-projects/blob/main/Algorithms.ipynb\" target=\"_parent\"><img src=\"https://colab.research.google.com/assets/colab-badge.svg\" alt=\"Open In Colab\"/></a>"
      ]
    },
    {
      "cell_type": "markdown",
      "source": [
        "# Search Algorithms"
      ],
      "metadata": {
        "id": "YuKEmBnf5on3"
      }
    },
    {
      "cell_type": "code",
      "source": [],
      "metadata": {
        "id": "8JYn7u6i56SJ"
      },
      "execution_count": null,
      "outputs": []
    },
    {
      "cell_type": "markdown",
      "source": [
        "# Sort Algorithms"
      ],
      "metadata": {
        "id": "Mz7uXbB95y-M"
      }
    },
    {
      "cell_type": "code",
      "execution_count": null,
      "metadata": {
        "id": "yVs9ib-f5gMQ"
      },
      "outputs": [],
      "source": [
        "\n",
        "# Insertion Sort\n",
        "\n",
        "primesArray=[3, 69, 89, 7, 97, 13, 71, 19, 73, 29, 83, 47, 37, 61,\n",
        "             41, 53, 59, 43, 67, 2, 17, 23, 31, 5, 11]\n",
        "def insertion_sort(primesArray):\n",
        "    for i in range(1, len(primesArray)):\n",
        "        key_item = primesArray[i]\n",
        "        j = i - 1\n",
        "        while j >= 0 and primesArray[j] > key_item:\n",
        "            primesArray[j + 1] = primesArray[j]\n",
        "            j -= 1\n",
        "        primesArray[j + 1] = key_item\n",
        "    return primesArray\n",
        "insertion_sort(primesArray)\n",
        "\n",
        "\n",
        "s = ['pineapple', 'Applepi', 'applepie', 'apPLe', 'appLE', ]\n",
        "s.sort(key=len)\n",
        "print(s)\n",
        ""
      ]
    }
  ]
}