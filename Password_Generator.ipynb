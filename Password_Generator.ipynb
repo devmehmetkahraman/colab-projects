{
  "nbformat": 4,
  "nbformat_minor": 0,
  "metadata": {
    "colab": {
      "provenance": [],
      "authorship_tag": "ABX9TyMoa2YeSpNwlI9IcmhognHn",
      "include_colab_link": true
    },
    "kernelspec": {
      "name": "python3",
      "display_name": "Python 3"
    },
    "language_info": {
      "name": "python"
    }
  },
  "cells": [
    {
      "cell_type": "markdown",
      "metadata": {
        "id": "view-in-github",
        "colab_type": "text"
      },
      "source": [
        "<a href=\"https://colab.research.google.com/github/devmehmetkahraman/colab-projects/blob/main/Password_Generator.ipynb\" target=\"_parent\"><img src=\"https://colab.research.google.com/assets/colab-badge.svg\" alt=\"Open In Colab\"/></a>"
      ]
    },
    {
      "cell_type": "markdown",
      "source": [
        "Password Generator is not a 'generator function!'"
      ],
      "metadata": {
        "id": "5u2jap4CWAlS"
      }
    },
    {
      "cell_type": "code",
      "execution_count": null,
      "metadata": {
        "id": "A8iqSmAajMBP"
      },
      "outputs": [],
      "source": [
        "import random\n",
        "import string\n",
        "\n",
        "def password_generator():\n",
        "  print('Hi, welcome to Password Generator!')\n",
        "\n",
        "  length = int(input(\"\\nPlease, enter length of password: \"))\n",
        "  lower = string.ascii_lowercase\n",
        "  upper = string.ascii_uppercase\n",
        "  digits = string.digits\n",
        "  symbols = string.punctuation\n",
        "\n",
        "  all = lower + upper + digits + symbols\n",
        "  #temp = random.sample(all, length)\n",
        "  password = ''.join(random.sample(all, length))\n",
        "  print(password)\n",
        "  return f\"Length of your password is: {len(password)}\"\n",
        "password_generator()"
      ]
    },
    {
      "cell_type": "markdown",
      "source": [
        "2nd version:"
      ],
      "metadata": {
        "id": "otEdq8fuV3xA"
      }
    },
    {
      "cell_type": "code",
      "source": [
        "import random\n",
        "import string\n",
        "\n",
        "def password_generator(length):\n",
        "    def decorator(func):\n",
        "        def wrapper(*args, **kwargs):\n",
        "            password_characters = string.ascii_letters + string.digits + string.punctuation\n",
        "            password = ''.join(random.choice(password_characters) for _ in range(length))\n",
        "            return func(password, *args, **kwargs)\n",
        "        return wrapper\n",
        "    return decorator\n",
        "\n",
        "@password_generator(length=int(input()))\n",
        "def generate_password(password):\n",
        "    print(\"Generated password:\", password)\n",
        "\n",
        "generate_password()"
      ],
      "metadata": {
        "id": "vGcxDWQRV4dQ",
        "collapsed": true
      },
      "execution_count": null,
      "outputs": []
    },
    {
      "cell_type": "markdown",
      "source": [
        "3rd version:"
      ],
      "metadata": {
        "id": "z8fXlJTzzwAh"
      }
    },
    {
      "cell_type": "code",
      "source": [
        "import random\n",
        "import string\n",
        "\n",
        "def password_generator(length, chars=string.ascii_letters + string.digits + string.punctuation):\n",
        "  \"\"\"\n",
        "  Yields a random password of specified length.\n",
        "  \"\"\"\n",
        "  for _ in range(1): # This loop ensures we only generate one password per call\n",
        "    yield ''.join(random.choice(chars) for _ in range(length))\n",
        "\n",
        "# Usage:\n",
        "password_gen = password_generator(12)  # Create a generator object for a 12-char password\n",
        "password = next(password_gen)       # Get the next (and only) password from the generator\n",
        "print(password)"
      ],
      "metadata": {
        "id": "j-4gAEgGzGwa"
      },
      "execution_count": null,
      "outputs": []
    }
  ]
}