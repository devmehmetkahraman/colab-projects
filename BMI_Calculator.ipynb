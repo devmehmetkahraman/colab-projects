{
  "nbformat": 4,
  "nbformat_minor": 0,
  "metadata": {
    "colab": {
      "provenance": [],
      "authorship_tag": "ABX9TyMWm4toNGIPGFYCmSPepWfc",
      "include_colab_link": true
    },
    "kernelspec": {
      "name": "python3",
      "display_name": "Python 3"
    },
    "language_info": {
      "name": "python"
    }
  },
  "cells": [
    {
      "cell_type": "markdown",
      "metadata": {
        "id": "view-in-github",
        "colab_type": "text"
      },
      "source": [
        "<a href=\"https://colab.research.google.com/github/devmehmetkahraman/colab-projects/blob/main/BMI_Calculator.ipynb\" target=\"_parent\"><img src=\"https://colab.research.google.com/assets/colab-badge.svg\" alt=\"Open In Colab\"/></a>"
      ]
    },
    {
      "cell_type": "markdown",
      "source": [
        "# Steps\n",
        "* take user inputs\n",
        "* define a function called bmi_calculator\n",
        "* return weight divided by height squared\n",
        "* declare a variable called \"result\" and\n",
        "* assign it the result of using the function\n",
        "* print the \"result\" variable"
      ],
      "metadata": {
        "id": "D_D61rtjG_lN"
      }
    },
    {
      "cell_type": "markdown",
      "source": [
        "First version:"
      ],
      "metadata": {
        "id": "tsTjxl1SHD8T"
      }
    },
    {
      "cell_type": "code",
      "execution_count": null,
      "metadata": {
        "id": "espI2LguG3le"
      },
      "outputs": [],
      "source": [
        "weight = 67\n",
        "height = 1.72\n",
        "\n",
        "def bmi_calculator():\n",
        "  return weight/(height**2)\n",
        "\n",
        "result = bmi_calculator()\n",
        "print(result)"
      ]
    },
    {
      "cell_type": "markdown",
      "source": [
        "the second is:"
      ],
      "metadata": {
        "id": "hFMDQPahHIm0"
      }
    },
    {
      "cell_type": "code",
      "source": [
        "weight = int(input())\n",
        "height = int(input())\n",
        "\n",
        "# define a function called bmi_calculator\n",
        "def bmi_calculator():\n",
        "\n",
        "  # return weight divided by height squared\n",
        "  return weight/(height**2)\n",
        "\n",
        "# declare a variable called \"result\" and\n",
        "# assign it the result of using the function\n",
        "result = bmi_calculator()\n",
        "\n",
        "# print the \"result\" variable\n",
        "print(\"result:\", result)"
      ],
      "metadata": {
        "id": "NcEVINDTHLGP"
      },
      "execution_count": null,
      "outputs": []
    },
    {
      "cell_type": "markdown",
      "source": [
        "the third is:"
      ],
      "metadata": {
        "id": "Vy6caEKhHNhQ"
      }
    },
    {
      "cell_type": "code",
      "source": [
        "def bmi_calculator(weight, height):\n",
        "  bmi = round(weight / (height * height), 2)\n",
        "\n",
        "  if bmi < 18.5:\n",
        "    return (f\"{bmi} \\nYour score is underweight\")\n",
        "  elif bmi >= 18.5 and bmi < 25:\n",
        "    return (f\"{bmi} \\nYour score is normal\")\n",
        "  elif bmi >= 25 and bmi < 30:\n",
        "    return (f\"{bmi} \\nYour score is overweight\")\n",
        "  else:\n",
        "    return (f\"{bmi} \\nYour score is obese\")\n",
        "\n",
        "weight = float(input(\"Enter your weight in kilograms: \"))\n",
        "height = float(input(\"Enter your height in meters: \"))\n",
        "\n",
        "bmi = bmi_calculator(weight, height)\n",
        "print(f\"Your BMI result is: {bmi}\")"
      ],
      "metadata": {
        "id": "oGHjersrHPwJ"
      },
      "execution_count": null,
      "outputs": []
    },
    {
      "cell_type": "code",
      "source": [
        "def bmi_calculator(weight, height):\n",
        "  bmi = weight / (height * height)\n",
        "  if bmi < 18.5:\n",
        "    return \"Underweight\"\n",
        "  elif bmi >= 18.5 and bmi < 25:\n",
        "    return \"Normal weight\"\n",
        "  elif bmi >= 25 and bmi < 30:\n",
        "    return \"Overweight\"\n",
        "  else:\n",
        "    return \"Obese\"\n",
        "\n",
        "weight = float(input(\"Enter your weight in kilograms: \"))\n",
        "height = float(input(\"Enter your height in meters: \"))\n",
        "\n",
        "bmi = bmi_calculator(weight, height)\n",
        "\n",
        "print(\"Your BMI is:\", bmi)"
      ],
      "metadata": {
        "id": "72sXeyeIHcLi"
      },
      "execution_count": null,
      "outputs": []
    }
  ]
}