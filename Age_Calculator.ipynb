{
  "nbformat": 4,
  "nbformat_minor": 0,
  "metadata": {
    "colab": {
      "provenance": [],
      "authorship_tag": "ABX9TyOc4agrKatewD3jD7dGjTkG",
      "include_colab_link": true
    },
    "kernelspec": {
      "name": "python3",
      "display_name": "Python 3"
    },
    "language_info": {
      "name": "python"
    }
  },
  "cells": [
    {
      "cell_type": "markdown",
      "metadata": {
        "id": "view-in-github",
        "colab_type": "text"
      },
      "source": [
        "<a href=\"https://colab.research.google.com/github/devmehmetkahraman/colab-projects/blob/main/Age_Calculator.ipynb\" target=\"_parent\"><img src=\"https://colab.research.google.com/assets/colab-badge.svg\" alt=\"Open In Colab\"/></a>"
      ]
    },
    {
      "cell_type": "markdown",
      "source": [
        "# Age Calculating Machine"
      ],
      "metadata": {
        "id": "lcg0M54L5CZi"
      }
    },
    {
      "cell_type": "code",
      "execution_count": null,
      "metadata": {
        "id": "jqcn2lty48u0"
      },
      "outputs": [],
      "source": [
        "import datetime as date\n",
        "\n",
        "def calculateAge(birthDate):\n",
        "    today = date.datetime.today()\n",
        "    age = today.year - birthDate.year -((today.month, today.day) < (birthDate.month, birthDate.day))\n",
        "    return age\n",
        "\n",
        "birthDate = input(\"Please enter your birthdate on the following format (dd/mm/yyyy)\\n>>> \")\n",
        "birthDate = date.datetime.strptime(birthDate, \"%d/%m/%Y\").date()\n",
        "print(\"Your birthday is on \"+ birthDate.strftime(\"%d\") + \" of \" + birthDate.strftime(\"%B, %Y\"))\n",
        "\n",
        "print(\"You are\", calculateAge(birthDate), \"years old\")"
      ]
    }
  ]
}