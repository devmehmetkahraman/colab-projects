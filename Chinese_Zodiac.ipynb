{
  "nbformat": 4,
  "nbformat_minor": 0,
  "metadata": {
    "colab": {
      "provenance": [],
      "authorship_tag": "ABX9TyPymsiL0DEIvRywbHL7S5IF",
      "include_colab_link": true
    },
    "kernelspec": {
      "name": "python3",
      "display_name": "Python 3"
    },
    "language_info": {
      "name": "python"
    }
  },
  "cells": [
    {
      "cell_type": "markdown",
      "metadata": {
        "id": "view-in-github",
        "colab_type": "text"
      },
      "source": [
        "<a href=\"https://colab.research.google.com/github/devmehmetkahraman/colab-projects/blob/main/Chinese_Zodiac.ipynb\" target=\"_parent\"><img src=\"https://colab.research.google.com/assets/colab-badge.svg\" alt=\"Open In Colab\"/></a>"
      ]
    },
    {
      "cell_type": "markdown",
      "source": [
        "1st experiment with Chinese zodiac"
      ],
      "metadata": {
        "id": "Twd1v0KSO9tu"
      }
    },
    {
      "cell_type": "code",
      "execution_count": null,
      "metadata": {
        "id": "o4mFkRd6LmMT"
      },
      "outputs": [],
      "source": [
        "import datetime\n",
        "\n",
        "animals = [\"fare\", \"öküz\", \"kaplan\", \"tavşan\", \"ejderha\", \"yılan\", \"at\", \"koyun\", \"maymun\", \"horoz\", \"köpek\", \"domuz\"]\n",
        "elements = [\"su\", \"odun\", \"ateş\", \"toprak\", \"metal\"]\n",
        "\n",
        "start_dates = [\n",
        "    (2023, 1, 22),\n",
        "    (2024, 1, 22),\n",
        "    (2025, 1, 22),\n",
        "    (2026, 1, 22),\n",
        "    (2027, 1, 22),\n",
        "]\n",
        "\n",
        "end_dates = [\n",
        "    (2023, 2, 9),\n",
        "    (2024, 2, 9),\n",
        "    (2025, 2, 9),\n",
        "    (2026, 2, 9),\n",
        "    (2027, 2, 9),\n",
        "]\n",
        "\n",
        "year = int(input(\"yılı giriniz: \"))\n",
        "\n",
        "# Using a while loop to handle potential out-of-range year input\n",
        "i = 0\n",
        "while i < len(start_dates) and year - 2023 != i :\n",
        "  i += 1\n",
        "\n",
        "if i < len(start_dates):\n",
        "  start_date = start_dates[i]\n",
        "  end_date = end_dates[i]\n",
        "  print(\"Yılın başlangıç tarihi:\", start_date)\n",
        "  print(\"Yılın bitiş tarihi:\", end_date)\n",
        "\n",
        "  animal_sign = animals[year % 12]\n",
        "  element = elements[year % 5]\n",
        "  print(\"Yılın hayvanı:\", animal_sign)\n",
        "  print(\"Yılın elementi:\", element)\n",
        "else:\n",
        "  print(\"Geçersiz yıl girdisi.\")"
      ]
    },
    {
      "cell_type": "markdown",
      "source": [],
      "metadata": {
        "id": "TObLpHVrPEPQ"
      }
    },
    {
      "cell_type": "code",
      "source": [
        "import datetime\n",
        "\n",
        "animals = [\"fare\", \"öküz\", \"kaplan\", \"tavşan\", \"ejderha\", \"yılan\", \"at\", \"koyun\", \"maymun\", \"horoz\", \"köpek\", \"domuz\"]\n",
        "elements = [\"su\", \"odun\", \"ateş\", \"toprak\", \"metal\"]\n",
        "\n",
        "start_dates =\n",
        "[\n",
        "    (2023, 1, 22),\n",
        "    (2024, 1, 22),\n",
        "    (2025, 1, 22),\n",
        "    (2026, 1, 22),\n",
        "    (2027, 1, 22),\n",
        "]\n",
        "\n",
        "end_dates =\n",
        "[\n",
        "    (2023, 2, 9),\n",
        "    (2024, 2, 9),\n",
        "    (2025, 2, 9),\n",
        "    (2026, 2, 9),\n",
        "    (2027, 2, 9),\n",
        "]\n",
        "\n",
        "year = int(input(\"yılı giriniz: \"))\n",
        "\n",
        "start_date = start_dates[year - 2023]\n",
        "end_date = end_dates[year - 2023]\n",
        "\n",
        "print(\"Yılın başlangıç tarihi:\", start_date)\n",
        "print(\"Yılın bitiş tarihi:\", end_date)\n",
        "\n",
        "animal_sign = animals[year % 12]\n",
        "element = elements[year % 5]\n",
        "\n",
        "print(\"Yılın hayvanı:\", animal_sign)\n",
        "print(\"Yılın elementi:\", element)"
      ],
      "metadata": {
        "id": "sqlfATsMPJJr"
      },
      "execution_count": null,
      "outputs": []
    },
    {
      "cell_type": "markdown",
      "source": [
        "2nd experiment with Chinese zodiac"
      ],
      "metadata": {
        "id": "64254Lj2PLRk"
      }
    },
    {
      "cell_type": "code",
      "source": [
        "year = int(input(\"Input your birth year: \"))\n",
        "if   (year - 2000) % 12 == 0:\n",
        "    sign = 'Dragon'\n",
        "elif (year - 2000) % 12 == 1:\n",
        "    sign = 'Snake'\n",
        "elif (year - 2000) % 12 == 2:\n",
        "    sign = 'Horse'\n",
        "elif (year - 2000) % 12 == 3:\n",
        "    sign = 'sheep'\n",
        "elif (year - 2000) % 12 == 4:\n",
        "    sign = 'Monkey'\n",
        "elif (year - 2000) % 12 == 5:\n",
        "    sign = 'Rooster'\n",
        "elif (year - 2000) % 12 == 6:\n",
        "    sign = 'Dog'\n",
        "elif (year - 2000) % 12 == 7:\n",
        "    sign = 'Pig'\n",
        "elif (year - 2000) % 12 == 8:\n",
        "    sign = 'Rat'\n",
        "elif (year - 2000) % 12 == 9:\n",
        "    sign = 'Ox'\n",
        "elif (year - 2000) % 12 == 10:\n",
        "    sign = 'Tiger'\n",
        "else:\n",
        "    sign = 'Hare'\n",
        "\n",
        "print(\"Your Zodiac sign :\",sign)"
      ],
      "metadata": {
        "id": "01wNML5PPNz0"
      },
      "execution_count": null,
      "outputs": []
    },
    {
      "cell_type": "code",
      "source": [
        "# 2nd experiment with Chinese zodiac using a dictionary for cleaner code\n",
        "zodiac_signs = {\n",
        "    0: 'Dragon', 1: 'Snake', 2: 'Horse', 3: 'sheep', 4: 'Monkey',\n",
        "    5: 'Rooster', 6: 'Dog', 7: 'Pig', 8: 'Rat', 9: 'Ox', 10: 'Tiger',\n",
        "    11: 'Hare'\n",
        "}\n",
        "year = int(input(\"Input your birth year: \"))\n",
        "sign = zodiac_signs[(year - 2000) % 12]\n",
        "print(\"Your Zodiac sign :\", sign)"
      ],
      "metadata": {
        "id": "B-muJQFJPRYe"
      },
      "execution_count": null,
      "outputs": []
    }
  ]
}