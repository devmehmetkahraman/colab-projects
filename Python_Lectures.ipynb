{
  "nbformat": 4,
  "nbformat_minor": 0,
  "metadata": {
    "colab": {
      "provenance": [],
      "authorship_tag": "ABX9TyNuxNM2I+WAFqKcNVKMhPvj",
      "include_colab_link": true
    },
    "kernelspec": {
      "name": "python3",
      "display_name": "Python 3"
    },
    "language_info": {
      "name": "python"
    }
  },
  "cells": [
    {
      "cell_type": "markdown",
      "metadata": {
        "id": "view-in-github",
        "colab_type": "text"
      },
      "source": [
        "<a href=\"https://colab.research.google.com/github/devmehmetkahraman/colab-projects/blob/main/Python_Lectures.ipynb\" target=\"_parent\"><img src=\"https://colab.research.google.com/assets/colab-badge.svg\" alt=\"Open In Colab\"/></a>"
      ]
    },
    {
      "cell_type": "code",
      "source": [
        "#This is a comment\n",
        "print(\"Hi, Stardust!\") # prints to screen"
      ],
      "metadata": {
        "id": "zRVbS5zxPNUH"
      },
      "execution_count": null,
      "outputs": []
    },
    {
      "cell_type": "markdown",
      "source": [
        "# Python Data Types"
      ],
      "metadata": {
        "id": "jzlxA146ekK2"
      }
    },
    {
      "cell_type": "code",
      "source": [
        "def python_data_types():\n",
        "  type_list = ((int, float, complex), bool, set, dict, [str, list, tuple])\n",
        "  return type_list\n",
        "python_data_types()"
      ],
      "metadata": {
        "id": "KbnHipVXeqbR"
      },
      "execution_count": null,
      "outputs": []
    },
    {
      "cell_type": "markdown",
      "source": [
        "# Merge Two Dictionaries"
      ],
      "metadata": {
        "id": "kw1MrDTwOnAI"
      }
    },
    {
      "cell_type": "code",
      "source": [
        "def merge(dict1, dict2):\n",
        "  res = dict1 | dict2\n",
        "  return res\n",
        "\n",
        "dict1 = {'dk' : 1, 'ab' : 9}\n",
        "dict2 = {'ac' : 0, 'hi' : 5}\n",
        "new_dict = merge(dict1, dict2)\n",
        "print(new_dict)"
      ],
      "metadata": {
        "id": "RT5uuvMlOopZ"
      },
      "execution_count": null,
      "outputs": []
    },
    {
      "cell_type": "markdown",
      "source": [
        "# Lambda"
      ],
      "metadata": {
        "id": "ZAxYHY_vMZGF"
      }
    },
    {
      "cell_type": "code",
      "execution_count": null,
      "metadata": {
        "id": "vJeZMOSly38m"
      },
      "outputs": [],
      "source": [
        "# Without Lambda & Filter\n",
        "\n",
        "data = [1, 2, None, 4, 5, None, 7]\n",
        "result = []\n",
        "for item in data:\n",
        "  if item is not None:\n",
        "    result.append(item)\n",
        "result"
      ]
    },
    {
      "cell_type": "code",
      "source": [
        "# With Lambda & Filter\n",
        "data = [1, 2, None, 4, 5, None, 7]\n",
        "result=list(filter (lambda i:i!=None, data))\n",
        "result"
      ],
      "metadata": {
        "id": "JW_tMTpP0L8s"
      },
      "execution_count": null,
      "outputs": []
    },
    {
      "cell_type": "markdown",
      "source": [
        "# Class"
      ],
      "metadata": {
        "id": "4AcqhsdnO7S0"
      }
    },
    {
      "cell_type": "code",
      "source": [
        "class Person:\n",
        "  def __init__(self, name):\n",
        "    self.name = name\n",
        "user = Person(\"Max\")\n",
        "user.name = \"Max\"\n",
        "print(user.name)"
      ],
      "metadata": {
        "id": "TVOtKVt2O9pO"
      },
      "execution_count": null,
      "outputs": []
    }
  ]
}