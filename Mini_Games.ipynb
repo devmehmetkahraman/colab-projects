{
  "nbformat": 4,
  "nbformat_minor": 0,
  "metadata": {
    "colab": {
      "provenance": [],
      "authorship_tag": "ABX9TyOdDQahmirpyxDNir2HUmDx",
      "include_colab_link": true
    },
    "kernelspec": {
      "name": "python3",
      "display_name": "Python 3"
    },
    "language_info": {
      "name": "python"
    }
  },
  "cells": [
    {
      "cell_type": "markdown",
      "metadata": {
        "id": "view-in-github",
        "colab_type": "text"
      },
      "source": [
        "<a href=\"https://colab.research.google.com/github/devmehmetkahraman/colab-projects/blob/main/Mini_Games.ipynb\" target=\"_parent\"><img src=\"https://colab.research.google.com/assets/colab-badge.svg\" alt=\"Open In Colab\"/></a>"
      ]
    },
    {
      "cell_type": "markdown",
      "source": [
        "# Star Patterns"
      ],
      "metadata": {
        "id": "4e8iyG0O_YO6"
      }
    },
    {
      "cell_type": "code",
      "execution_count": null,
      "metadata": {
        "id": "OPAlX4-y5uRH"
      },
      "outputs": [],
      "source": [
        "n=int(input())\n",
        "for i in range(1, n+1):\n",
        "    for j in range(1, i+1):\n",
        "        print(\"1 \", end=\"\")\n",
        "    print()"
      ]
    },
    {
      "cell_type": "code",
      "execution_count": null,
      "metadata": {
        "id": "9DSFdF2KFZ86"
      },
      "outputs": [],
      "source": [
        "n=int(input())\n",
        "for i in range(n, 0, -1):\n",
        "    for j in range(1, i+1):\n",
        "        print(\"1 \", end=\"\")\n",
        "    print()"
      ]
    },
    {
      "cell_type": "markdown",
      "source": [
        "# Sudoku Solver"
      ],
      "metadata": {
        "id": "TdFpHpOK-Zve"
      }
    },
    {
      "cell_type": "code",
      "source": [
        "def find_empty(board):\n",
        "  \"\"\"Finds an empty square in the sudoku board\"\"\"\n",
        "  for i in range(len(board)):\n",
        "    for j in range(len(board[0])):\n",
        "      if board[i][j] == 0:\n",
        "        return (i, j)\n",
        "  return None\n",
        "\n",
        "def valid(board, num, row, col):\n",
        "  \"\"\"Checks if a number can be placed in a specific square\"\"\"\n",
        "  # Check row\n",
        "  for i in range(len(board)):\n",
        "    if board[row][i] == num and col != i:\n",
        "      return False\n",
        "  # Check column\n",
        "  for i in range(len(board)):\n",
        "    if board[i][col] == num and row != i:\n",
        "      return False\n",
        "  # Check subgrid\n",
        "  start_row = row - row % 3\n",
        "  start_col = col - col % 3\n",
        "  for i in range(3):\n",
        "    for j in range(3):\n",
        "      if board[start_row + i][start_col + j] == num and (row, col) != (start_row + i, start_col + j):\n",
        "        return False\n",
        "  return True\n",
        "\n",
        "def solve(board):\n",
        "  \"\"\"Solves the sudoku board using backtracking\"\"\"\n",
        "  empty_square = find_empty(board)\n",
        "  # If there are no empty squares, the sudoku is solved\n",
        "  if not empty_square:\n",
        "    return True\n",
        "  row, col = empty_square\n",
        "  for i in range(1, 10):\n",
        "    # Check if the number is valid in the current square\n",
        "    if valid(board, i, row, col):\n",
        "      board[row][col] = i\n",
        "      # Recursively solve the sudoku with the number placed\n",
        "      if solve(board):\n",
        "        return True\n",
        "      # If placing the number doesn't lead to a solution, backtrack and try a different number\n",
        "      board[row][col] = 0\n",
        "  return False\n",
        "\n",
        "def print_board(board):\n",
        "  \"\"\"Prints the sudoku board\"\"\"\n",
        "  for i in range(len(board)):\n",
        "    for j in range(len(board[0])):\n",
        "      print(board[i][j], end=\" \")\n",
        "    print()\n",
        "\n",
        "# Example sudoku board\n",
        "board = [\n",
        "  [0, 3, 5, 7, 0, 0, 0, 0, 0],\n",
        "  [0, 0, 0, 0, 0, 0, 0, 8, 0],\n",
        "  [7, 8, 9, 2, 0, 0, 0, 0, 6],\n",
        "  [0, 0, 1, 0, 0, 9, 0, 0, 0],\n",
        "  [5, 9, 0, 0, 0, 6, 0, 0, 4],\n",
        "  [0, 0, 0, 0, 0, 0, 0, 0, 9],\n",
        "  [0, 6, 0, 0, 7, 0, 5, 0, 0],\n",
        "  [0, 0, 8, 0, 0, 0, 0, 0, 3],\n",
        "  [3, 4, 7, 6, 0, 8, 1, 0, 2],\n",
        "]\n",
        "\n",
        "# Solve the sudoku\n",
        "if solve(board):\n",
        "  print(\"Sudoku Solved!\")\n",
        "  print_board(board)\n",
        "else:\n",
        "  print(\"No solution found\")"
      ],
      "metadata": {
        "id": "pQk0bR4KUL5k"
      },
      "execution_count": null,
      "outputs": []
    },
    {
      "cell_type": "markdown",
      "source": [
        "# FizzBuzz"
      ],
      "metadata": {
        "id": "0ATaGeUnUY0B"
      }
    },
    {
      "cell_type": "code",
      "source": [
        "import math\n",
        "import os\n",
        "import random\n",
        "import re\n",
        "import sys\n",
        "\n",
        "def fizzBuzz(n):\n",
        "    for i in range(1, n+1):\n",
        "        if i % 3 == 0 and i % 5 !=0:\n",
        "            print('Fizz')\n",
        "        elif i % 5 == 0 and i % 3 !=0:\n",
        "            print('Buzz')\n",
        "        elif i % 5 == 0 and i % 3 ==0:\n",
        "            print('FizzBuzz')\n",
        "        else:\n",
        "            print(i)\n",
        "if __name__ == '__main__':\n",
        "    n = int(input().strip())\n",
        "fizzBuzz(n)"
      ],
      "metadata": {
        "id": "m9OvX7GWUdSD"
      },
      "execution_count": null,
      "outputs": []
    },
    {
      "cell_type": "markdown",
      "source": [
        "# Guess the Number"
      ],
      "metadata": {
        "id": "HSt9F_BTU698"
      }
    },
    {
      "cell_type": "code",
      "source": [
        "# Number guessing mini game\n",
        "\n",
        "import random\n",
        "\n",
        "n = random.randrange(1, 100)\n",
        "guess = int(input(\"Enter any number among 1 to hundred!: \"))\n",
        "\n",
        "while n != guess:\n",
        "    if guess < n:\n",
        "        print(\"Too low\")\n",
        "        guess = int(input(\"Enter number again: \"))\n",
        "    elif guess > n:\n",
        "        print(\"Too high\")\n",
        "        guess = int(input(\"Enter number again: \"))\n",
        "    else:\n",
        "        break\n",
        "print(\"You guessed it right!\")"
      ],
      "metadata": {
        "id": "lke2G1VPU90_"
      },
      "execution_count": null,
      "outputs": []
    },
    {
      "cell_type": "code",
      "source": [
        "import random\n",
        "\n",
        "def guess_the_number():\n",
        "    \"\"\"Plays a number guessing game with the user.\"\"\"\n",
        "    secret_number = random.randrange(1, 100)\n",
        "\n",
        "    while True:\n",
        "        try:\n",
        "            guess = int(input(\"Enter any number among 1 to hundred!: \"))\n",
        "        except ValueError:\n",
        "            print(\"Invalid input. Please enter a number.\")\n",
        "            continue\n",
        "\n",
        "        if guess < secret_number:\n",
        "            print(\"Too low\")\n",
        "        elif guess > secret_number:\n",
        "            print(\"Too high\")\n",
        "        else:\n",
        "            print(\"You guessed it right!\")\n",
        "            break\n",
        "\n",
        "if __name__ == \"__main__\":\n",
        "    guess_the_number()"
      ],
      "metadata": {
        "id": "0xhusqjNWSCv"
      },
      "execution_count": null,
      "outputs": []
    }
  ]
}